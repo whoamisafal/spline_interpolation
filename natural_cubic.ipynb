{
 "cells": [
  {
   "cell_type": "code",
   "execution_count": 1,
   "metadata": {},
   "outputs": [
    {
     "name": "stdout",
     "output_type": "stream",
     "text": [
      "Natural cubic spline coefficients:\n",
      "Interval [3.0, 4.5]: a=2.5, b=-1.4197718631178708, c=0.0, d=0.18656527249683147\n",
      "Interval [4.5, 7.0]: a=1.0, b=-0.16045627376425875, c=1.6790874524714832, d=-0.21414448669201525\n",
      "Interval [7.0, 9.0]: a=2.5, b=0.022053231939163753, c=-1.5330798479087455, d=0.12775665399239547\n"
     ]
    }
   ],
   "source": [
    "using LinearAlgebra\n",
    "\n",
    "# Input data points\n",
    "data_points = [(3.0, 2.5), (4.5, 1.0), (7.0, 2.5), (9.0, 0.5)]\n",
    "x = [p[1] for p in data_points]\n",
    "y = [p[2] for p in data_points]\n",
    "\n",
    "# Number of intervals\n",
    "n = length(x) - 1\n",
    "\n",
    "# Step 1: Compute intervals h\n",
    "h = [x[i+1] - x[i] for i in 1:n]\n",
    "\n",
    "# Step 2: Compute the right-hand side vector\n",
    "rhs = zeros(n-1)\n",
    "for i in 1:n-1\n",
    "    rhs[i] = 6 * ((y[i+2] - y[i+1]) / h[i+1] - (y[i+1] - y[i]) / h[i])\n",
    "end\n",
    "\n",
    "# Step 3: Construct the tridiagonal matrix\n",
    "A = zeros(n-1, n-1)\n",
    "for i in 1:n-1\n",
    "    if i > 1\n",
    "        A[i, i-1] = h[i]  # Sub-diagonal\n",
    "    end\n",
    "    A[i, i] = 2 * (h[i] + h[i+1])  # Main diagonal\n",
    "    if i < n-1\n",
    "        A[i, i+1] = h[i+1]  # Super-diagonal\n",
    "    end\n",
    "end\n",
    "\n",
    "# Step 4: Solve for c\n",
    "c_inner = A \\ rhs\n",
    "\n",
    "# Add boundary conditions (natural spline)\n",
    "c = [0.0; c_inner; 0.0]  # c_1 = c_n = 0\n",
    "\n",
    "# Step 5: Compute b and d\n",
    "b = [(y[i+1] - y[i]) / h[i] - h[i] * (2*c[i] + c[i+1]) / 6 for i in 1:n]\n",
    "d = [(c[i+1] - c[i]) / (6 * h[i]) for i in 1:n]\n",
    "\n",
    "# Print results\n",
    "println(\"Natural cubic spline coefficients:\")\n",
    "for i in 1:n\n",
    "    println(\"Interval [$(x[i]), $(x[i+1])]: a=$(y[i]), b=$(b[i]), c=$(c[i]), d=$(d[i])\")\n",
    "end\n"
   ]
  }
 ],
 "metadata": {
  "kernelspec": {
   "display_name": "Julia 1.11.1",
   "language": "julia",
   "name": "julia-1.11"
  },
  "language_info": {
   "file_extension": ".jl",
   "mimetype": "application/julia",
   "name": "julia",
   "version": "1.11.1"
  }
 },
 "nbformat": 4,
 "nbformat_minor": 2
}
